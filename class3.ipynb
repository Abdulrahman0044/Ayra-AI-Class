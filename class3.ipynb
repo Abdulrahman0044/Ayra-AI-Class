{
  "nbformat": 4,
  "nbformat_minor": 0,
  "metadata": {
    "colab": {
      "provenance": [],
      "authorship_tag": "ABX9TyN+byz9LVdXDvVUbfj9Pw6j",
      "include_colab_link": true
    },
    "kernelspec": {
      "name": "python3",
      "display_name": "Python 3"
    },
    "language_info": {
      "name": "python"
    }
  },
  "cells": [
    {
      "cell_type": "markdown",
      "metadata": {
        "id": "view-in-github",
        "colab_type": "text"
      },
      "source": [
        "<a href=\"https://colab.research.google.com/github/Abdulrahman0044/Ayra-AI-Class/blob/main/class3.ipynb\" target=\"_parent\"><img src=\"https://colab.research.google.com/assets/colab-badge.svg\" alt=\"Open In Colab\"/></a>"
      ]
    },
    {
      "cell_type": "markdown",
      "source": [
        "# Control Structures"
      ],
      "metadata": {
        "id": "9d0urcXVUkNG"
      }
    },
    {
      "cell_type": "markdown",
      "source": [
        "### Conditional Statement\n",
        "\n",
        "Conditional statements in Python allow you to execute certain pieces of code based on whether a condition is true or false. They are fundamental to controlling the flow of your program. Here are the basic types of conditional statements in Python:"
      ],
      "metadata": {
        "id": "vCXTDKe6UtjM"
      }
    },
    {
      "cell_type": "markdown",
      "source": [
        "1. `if statement`\n",
        "\n",
        "The `if` statement is used to test a specific condition. If the condition is true, the block of code inside the if statement will execute.\n",
        "\n",
        "Syntax:\n",
        "\n",
        "`if condition:`\n",
        "\n",
        "     # code to execute if condition is true\n"
      ],
      "metadata": {
        "id": "C680H3JMVKi3"
      }
    },
    {
      "cell_type": "code",
      "execution_count": 1,
      "metadata": {
        "colab": {
          "base_uri": "https://localhost:8080/"
        },
        "id": "4PpDjrPrUKsx",
        "outputId": "e50e8fdd-e287-4086-a1d2-1188aefcf978"
      },
      "outputs": [
        {
          "output_type": "stream",
          "name": "stdout",
          "text": [
            "You are an adult.\n"
          ]
        }
      ],
      "source": [
        "# declare a variable `age` and assign it an integer value 18\n",
        "age = 18\n",
        "\n",
        "# using `if statement` to check the condition that\n",
        "# age is either greater than or equal to 18 using the operator (>=)\n",
        "\n",
        "if age >= 18: # This will check the stored value of age and if the condition is true, the `print statement will be executed\n",
        "    print(\"You are an adult.\")\n",
        "\n",
        "# output: You are an adult.\n"
      ]
    },
    {
      "cell_type": "code",
      "source": [
        "# Further examples\n",
        "# Let's declare two variables house_number and street_number\n",
        "\n",
        "house_number = 35\n",
        "street_number = 15\n",
        "\n",
        "# We want to check if the two variables have the same integer values stored in them using (==)\n",
        "if house_number == street_number:\n",
        "    print(\"The house number and street number are the same.\")\n",
        "\n",
        "    # output: No output\n",
        "    # This is because the condition is not true"
      ],
      "metadata": {
        "id": "JR3BzImqXWea"
      },
      "execution_count": 4,
      "outputs": []
    },
    {
      "cell_type": "markdown",
      "source": [
        "2. `else Statement`\n",
        "\n",
        "The else statement is used after an if statement to define a block of code that will run if the if condition is false.\n",
        "\n",
        "Syntax:\n",
        "\n",
        "`if condition:`\n",
        "\n",
        "    # code to execute if condition is true\n",
        "\n",
        "`else:`\n",
        "\n",
        "    # code to execute if condition is false\n"
      ],
      "metadata": {
        "id": "WUhmzzkqYkAt"
      }
    },
    {
      "cell_type": "code",
      "source": [
        "# Declare a variable `age` and assign an integer value 16\n",
        "age = 16\n",
        "if age >= 18: # Check if the variable  `age` is greater than or equal to 18\n",
        "    print(\"You are an adult.\") # The condtion is not true\n",
        "else: # If the condition is not true, else execute the following\n",
        "    print(\"You are not an adult.\")\n",
        "\n",
        "# output: You are not an adult"
      ],
      "metadata": {
        "colab": {
          "base_uri": "https://localhost:8080/"
        },
        "id": "xPzMQEb3YRGu",
        "outputId": "6dae96de-a9b6-4472-d030-bb5e8901ed1d"
      },
      "execution_count": 5,
      "outputs": [
        {
          "output_type": "stream",
          "name": "stdout",
          "text": [
            "You are not an adult.\n"
          ]
        }
      ]
    },
    {
      "cell_type": "markdown",
      "source": [
        "3. `elif Statement`\n",
        "\n",
        "The elif (short for \"else if\") statement allows you to check multiple conditions. It comes after an if statement and before an else statement. You can have as many elif conditions as you need.\n",
        "\n",
        "Syntax:\n",
        "\n",
        "`if condition1:`\n",
        "\n",
        "    # code to execute if condition1 is true\n",
        "\n",
        "`elif condition2:`\n",
        "\n",
        "    # code to execute if condition2 is true\n",
        "\n",
        "`else:`\n",
        "\n",
        "    # code to execute if neither condition1 nor condition2 is true\n"
      ],
      "metadata": {
        "id": "xWgw465VrIBo"
      }
    },
    {
      "cell_type": "code",
      "source": [
        "# Let's a declare number and assign value 20\n",
        "number = 20\n",
        "if number < 13: # Check if number is less than 13. If true, execute the indented code\n",
        "    print(\"You are a child.\") # If false, move to the next code\n",
        "elif number < 18: # If this condition is false, move to the `else` statement\n",
        "    print(\"You are a teenager.\")\n",
        "else: # If the `elif` is false, execute the code below\n",
        "    print(\"You are an adult.\") #\n",
        "\n",
        "# output: You are an adult."
      ],
      "metadata": {
        "colab": {
          "base_uri": "https://localhost:8080/"
        },
        "id": "S3PAOuOrroyd",
        "outputId": "f0b8f0d8-0adb-4f23-85ca-d571f35a3345"
      },
      "execution_count": 2,
      "outputs": [
        {
          "output_type": "stream",
          "name": "stdout",
          "text": [
            "You are an adult.\n"
          ]
        }
      ]
    },
    {
      "cell_type": "markdown",
      "source": [
        "4. `Nested Conditional Statements`\n",
        "\n",
        "You can also nest if, elif, and else statements inside one another to handle more complex logic.\n",
        "\n",
        "Syntax:\n",
        "\n",
        "`if condition1:`\n",
        "\n",
        "    # code to execute if condition1 is true\n",
        "\n",
        "    `if condition2:`\n",
        "\n",
        "      # code to execute if condition2 is true\n",
        "\n",
        "    `else condition3:`\n",
        "    \n",
        "      # code to execute if condition3 is true\n",
        "      \n",
        "\n",
        "`else:`\n",
        "    # code to execute if neither condition1, condition2 nor condition3 is true\n"
      ],
      "metadata": {
        "id": "FxdAXwpztIW9"
      }
    },
    {
      "cell_type": "code",
      "source": [
        "# Declare a variable age and assign the value 34\n",
        "age = 20\n",
        "if age >= 18: # Check this condition. If the condition is true, execute the code below\n",
        "    if age >= 65: # Check this condition. If the condition is false, move to the else statement\n",
        "        print(\"You are a senior citizen.\")\n",
        "    else: # Since the age is less than 65, this line will then be executed\n",
        "        print(\"You are an adult.\")\n",
        "else: # This line will be bypassed\n",
        "    print(\"You are not an adult.\")\n",
        "\n",
        "# output: You are an adult"
      ],
      "metadata": {
        "colab": {
          "base_uri": "https://localhost:8080/"
        },
        "id": "IsEOdH2YtV2B",
        "outputId": "5f83d85b-39b5-47cb-d1a1-a82303a0a940"
      },
      "execution_count": 4,
      "outputs": [
        {
          "output_type": "stream",
          "name": "stdout",
          "text": [
            "You are an adult.\n"
          ]
        }
      ]
    },
    {
      "cell_type": "markdown",
      "source": [
        "5. `Short-hand if Statement`\n",
        "\n",
        "Python allows you to write if statements in a single line for simple conditions."
      ],
      "metadata": {
        "id": "1R7BkmkTuz2W"
      }
    },
    {
      "cell_type": "code",
      "source": [
        "# Declare a variable `age` and assign the value 18\n",
        "age = 18\n",
        "print(\"Adult\") if age >= 18 else print(\"Not an adult\") # This check the `if` condition and execute the print()\n",
        "# If the condition is false, the else statement is then executed\n",
        "\n",
        "# output: Adult\n"
      ],
      "metadata": {
        "colab": {
          "base_uri": "https://localhost:8080/"
        },
        "id": "5xblBY6zwEc2",
        "outputId": "4bf856fa-255e-4405-f028-bf23309ad826"
      },
      "execution_count": 6,
      "outputs": [
        {
          "output_type": "stream",
          "name": "stdout",
          "text": [
            "Adult\n"
          ]
        }
      ]
    }
  ]
}