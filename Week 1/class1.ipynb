{
  "nbformat": 4,
  "nbformat_minor": 0,
  "metadata": {
    "colab": {
      "provenance": [],
      "gpuType": "T4",
      "authorship_tag": "ABX9TyP3Kz1IbxKKpEplTMXhJncX",
      "include_colab_link": true
    },
    "kernelspec": {
      "name": "python3",
      "display_name": "Python 3"
    },
    "language_info": {
      "name": "python"
    },
    "accelerator": "GPU"
  },
  "cells": [
    {
      "cell_type": "markdown",
      "metadata": {
        "id": "view-in-github",
        "colab_type": "text"
      },
      "source": [
        "<a href=\"https://colab.research.google.com/github/Abdulrahman0044/Ayra-AI-Class/blob/main/class1.ipynb\" target=\"_parent\"><img src=\"https://colab.research.google.com/assets/colab-badge.svg\" alt=\"Open In Colab\"/></a>"
      ]
    },
    {
      "cell_type": "code",
      "execution_count": null,
      "metadata": {
        "id": "XFvANxt4tLpR",
        "colab": {
          "base_uri": "https://localhost:8080/"
        },
        "outputId": "fd182471-231a-4808-933a-37fa43a8474e"
      },
      "outputs": [
        {
          "output_type": "stream",
          "name": "stdout",
          "text": [
            "10\n"
          ]
        }
      ],
      "source": [
        "a = 10\n",
        "\n",
        "print(a)"
      ]
    },
    {
      "cell_type": "code",
      "source": [
        "print(\"hello world\")"
      ],
      "metadata": {
        "colab": {
          "base_uri": "https://localhost:8080/"
        },
        "id": "ilzcnGKdyEae",
        "outputId": "fd1f77c1-792c-40ce-f03a-81b795a2b14c"
      },
      "execution_count": null,
      "outputs": [
        {
          "output_type": "stream",
          "name": "stdout",
          "text": [
            "hello world\n"
          ]
        }
      ]
    },
    {
      "cell_type": "code",
      "source": [
        "print('hello world')"
      ],
      "metadata": {
        "colab": {
          "base_uri": "https://localhost:8080/"
        },
        "id": "JCeLaYZLyHHf",
        "outputId": "75564e16-6ea5-482a-c0c6-944730c2487e"
      },
      "execution_count": null,
      "outputs": [
        {
          "output_type": "stream",
          "name": "stdout",
          "text": [
            "hello world\n"
          ]
        }
      ]
    },
    {
      "cell_type": "code",
      "source": [
        "# Addition operation (+)\n",
        "b = 34\n",
        "c = 24\n",
        "\n",
        "x = b + c\n",
        "print(x)"
      ],
      "metadata": {
        "colab": {
          "base_uri": "https://localhost:8080/"
        },
        "id": "AWVhvrN3yktu",
        "outputId": "b9178825-197f-44b4-da67-ae7bee99e87c"
      },
      "execution_count": null,
      "outputs": [
        {
          "output_type": "stream",
          "name": "stdout",
          "text": [
            "58\n"
          ]
        }
      ]
    },
    {
      "cell_type": "code",
      "source": [
        "# Subtraction operation (-)\n",
        "x = 5\n",
        "y = 37\n",
        "\n",
        "m = y-x\n",
        "print(m)"
      ],
      "metadata": {
        "colab": {
          "base_uri": "https://localhost:8080/"
        },
        "id": "cUKMsSOAy8L4",
        "outputId": "a839a925-697e-464c-de71-a6700f561eb4"
      },
      "execution_count": null,
      "outputs": [
        {
          "output_type": "stream",
          "name": "stdout",
          "text": [
            "32\n"
          ]
        }
      ]
    },
    {
      "cell_type": "code",
      "source": [
        "# Multiplication operation (*)\n",
        "\n",
        "i = 0\n",
        "j = -1\n",
        "\n",
        "p = i*j\n",
        "print(p)"
      ],
      "metadata": {
        "colab": {
          "base_uri": "https://localhost:8080/"
        },
        "id": "EDSgiH7UzUvH",
        "outputId": "e9732379-da7b-413e-f63a-1d16a831e7c9"
      },
      "execution_count": null,
      "outputs": [
        {
          "output_type": "stream",
          "name": "stdout",
          "text": [
            "0\n"
          ]
        }
      ]
    },
    {
      "cell_type": "code",
      "source": [
        "# Division operation (/)\n",
        "\n",
        "d = 35\n",
        "e = 8\n",
        "\n",
        "r = d/e\n",
        "print(r)"
      ],
      "metadata": {
        "colab": {
          "base_uri": "https://localhost:8080/"
        },
        "id": "lwuN1kh-zqlP",
        "outputId": "35477e9b-fc25-406e-dcec-0183490d97aa"
      },
      "execution_count": null,
      "outputs": [
        {
          "output_type": "stream",
          "name": "stdout",
          "text": [
            "4.375\n"
          ]
        }
      ]
    },
    {
      "cell_type": "code",
      "source": [
        "# Modulo operation\n",
        "\n",
        "u = 45\n",
        "v = 5\n",
        "\n",
        "l = u/v\n",
        "g = u%v\n",
        "\n",
        "print(l)\n",
        "print(g)"
      ],
      "metadata": {
        "colab": {
          "base_uri": "https://localhost:8080/"
        },
        "id": "X04zu8i8z8Cw",
        "outputId": "4dad4eb2-b584-43ca-c166-2a7745b7cdec"
      },
      "execution_count": null,
      "outputs": [
        {
          "output_type": "stream",
          "name": "stdout",
          "text": [
            "9.0\n",
            "0\n"
          ]
        }
      ]
    },
    {
      "cell_type": "markdown",
      "source": [
        "# Data Types in Python"
      ],
      "metadata": {
        "id": "7GJsPPYC0s5Q"
      }
    },
    {
      "cell_type": "code",
      "source": [
        "# There are three main data types in Python and these are\n",
        "\n",
        "# Integer\n",
        "# Float\n",
        "# String\n",
        "\n",
        "# Integers are real numbers. Negative, 0 and Positive\n",
        "# Examples are -8, 0, 7, 67, -45\n",
        "\n",
        "# Wrong denotions of integers: \"78\", '-2' (not integers)\n",
        "\n",
        "integer_number = 12 # int integer_number = 12\n",
        "y = 0\n",
        "print(type(integer_number)) # type() is used to check data types of a variable\n",
        "print(type(y))"
      ],
      "metadata": {
        "colab": {
          "base_uri": "https://localhost:8080/"
        },
        "id": "OrF2UhNs03dh",
        "outputId": "d7bf5ba7-4ab8-4fe5-decf-8579df3ca52e"
      },
      "execution_count": null,
      "outputs": [
        {
          "output_type": "stream",
          "name": "stdout",
          "text": [
            "<class 'int'>\n",
            "<class 'int'>\n"
          ]
        }
      ]
    },
    {
      "cell_type": "markdown",
      "source": [
        "### Float Data Type"
      ],
      "metadata": {
        "id": "dQ1AMrg3yQzB"
      }
    },
    {
      "cell_type": "code",
      "source": [
        "# Float are numbers with decimal points. Float numbers are denoted as {num.num}\n",
        "# Examples are 1.0, 3.5, 7.9076, -20.98\n",
        "\n",
        "# Wrong denotions for float numbers: \"34.98\", \"789.563\" (not floats)\n",
        "\n",
        "house_number = 23.98\n",
        "print(type(house_number))\n",
        "\n",
        "friends = 4.5\n",
        "print(type(friends))"
      ],
      "metadata": {
        "colab": {
          "base_uri": "https://localhost:8080/"
        },
        "id": "C_tJgREeyLqT",
        "outputId": "118db8c4-f707-486c-8754-d0cc1c55bd81"
      },
      "execution_count": null,
      "outputs": [
        {
          "output_type": "stream",
          "name": "stdout",
          "text": [
            "<class 'float'>\n",
            "<class 'float'>\n"
          ]
        }
      ]
    },
    {
      "cell_type": "code",
      "source": [
        "turtle_neck = 45.78\n",
        "print(\"The data type for turtle neck is: \", type(turtle_neck))"
      ],
      "metadata": {
        "colab": {
          "base_uri": "https://localhost:8080/"
        },
        "id": "BDTKI5bmzW75",
        "outputId": "89011f05-a57a-4cdc-cf85-993f476d1734"
      },
      "execution_count": null,
      "outputs": [
        {
          "output_type": "stream",
          "name": "stdout",
          "text": [
            "The data type for turtle neck is:  <class 'float'>\n"
          ]
        }
      ]
    },
    {
      "cell_type": "markdown",
      "source": [
        "### String Data Type"
      ],
      "metadata": {
        "id": "66LHwDo70e7T"
      }
    },
    {
      "cell_type": "code",
      "source": [
        "# Strings are characters enclosed with quotation marks. Either a single quote or double quote.\n",
        "\n",
        "# Examples are : \"Mother\", \"45\", 'float', '45.12'\n",
        "\n",
        "# Wrong denotions for strings: 45, 67.9, 78!, !mummy\n",
        "\n",
        "youth = \"Shaurya\"\n",
        "print(type(youth))"
      ],
      "metadata": {
        "id": "fHG4Jwrt0myv",
        "colab": {
          "base_uri": "https://localhost:8080/"
        },
        "outputId": "bd1ea054-83c3-40a7-bb07-eff42c5fa2d0"
      },
      "execution_count": 1,
      "outputs": [
        {
          "output_type": "stream",
          "name": "stdout",
          "text": [
            "<class 'str'>\n"
          ]
        }
      ]
    }
  ]
}