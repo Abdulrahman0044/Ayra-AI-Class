{
  "nbformat": 4,
  "nbformat_minor": 0,
  "metadata": {
    "colab": {
      "provenance": [],
      "authorship_tag": "ABX9TyO7Ad8JddhtNt5mYIOznHga",
      "include_colab_link": true
    },
    "kernelspec": {
      "name": "python3",
      "display_name": "Python 3"
    },
    "language_info": {
      "name": "python"
    }
  },
  "cells": [
    {
      "cell_type": "markdown",
      "metadata": {
        "id": "view-in-github",
        "colab_type": "text"
      },
      "source": [
        "<a href=\"https://colab.research.google.com/github/Abdulrahman0044/Ayra-AI-Class/blob/main/class4.ipynb\" target=\"_parent\"><img src=\"https://colab.research.google.com/assets/colab-badge.svg\" alt=\"Open In Colab\"/></a>"
      ]
    },
    {
      "cell_type": "markdown",
      "source": [
        "# Control Stucture"
      ],
      "metadata": {
        "id": "LE7qC68o176q"
      }
    },
    {
      "cell_type": "markdown",
      "source": [
        "### Loops\n",
        "Loops are a fundamental concept in programming that allow you to repeat a block of code multiple times. Python provides two primary types of loops: `for loops` and `while loops`. Understanding how to use these loops is essential for automating repetitive tasks and iterating over data structures like lists, strings, and dictionaries."
      ],
      "metadata": {
        "id": "kLsgWTVp2Ljn"
      }
    },
    {
      "cell_type": "markdown",
      "source": [
        "1. `for Loop`\n",
        "\n",
        "The for loop is used to iterate over a sequence (such as a list, tuple, dictionary, set, or string) and execute a block of code for each item in the sequence.\n",
        "\n",
        "Syntax:\n",
        "\n",
        "`for variable in sequence:`\n",
        "\n",
        "    # code to execute for each item in sequence\n"
      ],
      "metadata": {
        "id": "1ZWwXb9A3BOh"
      }
    },
    {
      "cell_type": "code",
      "execution_count": 1,
      "metadata": {
        "colab": {
          "base_uri": "https://localhost:8080/"
        },
        "id": "m8pYBcV011I8",
        "outputId": "793fe5cf-2fb9-4802-b270-c31b95e4e64a"
      },
      "outputs": [
        {
          "output_type": "stream",
          "name": "stdout",
          "text": [
            "apple\n",
            "banana\n",
            "cherry\n"
          ]
        }
      ],
      "source": [
        "# Examples\n",
        "# Declare a list of fruits namely: `apple`, `banana`, `cherry`\n",
        "\n",
        "fruits = [\"apple\", \"banana\", \"cherry\"] # the elements in the list are stored in the variable `fruits`\n",
        "for fruit in fruits: # this enables `fruit` takes all the element in the list `fruits`\n",
        "    print(fruit) # this prints each element in different line\n",
        "\n",
        "# output: apple\n",
        "#         banana\n",
        "#         cherry"
      ]
    },
    {
      "cell_type": "markdown",
      "source": [
        "Exercise 1: Write a Python program that prints the numbers from 1 to 10 (using a for loop)."
      ],
      "metadata": {
        "id": "Tkx9fqk75Hoe"
      }
    },
    {
      "cell_type": "code",
      "source": [
        "# Here we are going to implement `range()` function for `for loop`\n",
        "# Hint: syntax for the function is `range(start, step, stop)`.\n",
        "# if only two numbers are in the range function, then it will be `range(start, stop)`\n",
        "for i in range(1, 11): # variable `i` takes the element from 1 and ends at 10\n",
        "    print(i)\n",
        "\n",
        "# output: 1\n",
        "#         2\n",
        "#         3\n",
        "#         4\n",
        "#         5\n",
        "#         6\n",
        "#         7\n",
        "#         8\n",
        "#         9\n",
        "#         10"
      ],
      "metadata": {
        "colab": {
          "base_uri": "https://localhost:8080/"
        },
        "id": "qvz7_PgE17Xs",
        "outputId": "86f4da9b-2157-4920-d8d9-c53c9988ba1d"
      },
      "execution_count": 3,
      "outputs": [
        {
          "output_type": "stream",
          "name": "stdout",
          "text": [
            "1\n",
            "2\n",
            "3\n",
            "4\n",
            "5\n",
            "6\n",
            "7\n",
            "8\n",
            "9\n",
            "10\n"
          ]
        }
      ]
    },
    {
      "cell_type": "markdown",
      "source": [
        "Exercise 2: Write a Python program that calculates the sum of all numbers in a list using a for loop."
      ],
      "metadata": {
        "id": "dGRMMNDh6yCO"
      }
    },
    {
      "cell_type": "code",
      "source": [
        "# Declare a list variable `numbers` with the numbers 2,4,6,8,10\n",
        "# Declare another variable `total` and initialize with 0\n",
        "numbers = [2, 4, 6, 8, 10]\n",
        "total = 0\n",
        "for number in numbers: # `number` takes the elements of `numbers`\n",
        "    total += number # Iterate with the value of total, which is 0 and add all the elements\n",
        "print(\"Sum:\", total) # prints the total\n",
        "\n",
        "## Note: total += number is the same as total = total + number\n",
        "\n",
        "# output: Sum: 30"
      ],
      "metadata": {
        "colab": {
          "base_uri": "https://localhost:8080/"
        },
        "id": "ryIVRdH77Buc",
        "outputId": "3aef3f9a-0ff5-440a-a661-11ddf6dcb81d"
      },
      "execution_count": 7,
      "outputs": [
        {
          "output_type": "stream",
          "name": "stdout",
          "text": [
            "Sum: 30\n"
          ]
        }
      ]
    },
    {
      "cell_type": "code",
      "source": [
        "# If the code comes like this, with the print() indented in the `for loop`\n",
        "numbers = [2, 4, 6, 8, 10]\n",
        "total = 0\n",
        "for number in numbers: # `number` takes the elements of `numbers`\n",
        "    total += number # Iterate with the value of total, which is 0 and add all the elements\n",
        "    print(\"Sum:\", total) # this prints the `Sum` sequentially by adding each output of the initial result\n",
        "\n",
        "# output: Sum: 2\n",
        "#         Sum: 6\n",
        "#         Sum: 12\n",
        "#         Sum: 20\n",
        "#         Sum: 30"
      ],
      "metadata": {
        "colab": {
          "base_uri": "https://localhost:8080/"
        },
        "id": "PrLje8oq9BA_",
        "outputId": "0ed11b64-6a81-4f00-d07f-f6c35cef7ea9"
      },
      "execution_count": 9,
      "outputs": [
        {
          "output_type": "stream",
          "name": "stdout",
          "text": [
            "Sum: 2\n",
            "Sum: 6\n",
            "Sum: 12\n",
            "Sum: 20\n",
            "Sum: 30\n"
          ]
        }
      ]
    },
    {
      "cell_type": "markdown",
      "source": [
        "2. `while Loop`\n",
        "\n",
        "The while loop is used to repeat a block of code 'as long as a specific condition is true'. Unlike the for loop, which iterates over a sequence, the while loop is based on a condition.\n",
        "\n",
        "Syntax:\n",
        "\n",
        "while condition:\n",
        "\n",
        "    # code to execute as long as condition is true\n"
      ],
      "metadata": {
        "id": "uRfchffd-KyX"
      }
    },
    {
      "cell_type": "code",
      "source": [
        "# Declare a variable `count` and initialize it to 0\n",
        "# Using while loop, we want to check if the condition is true\n",
        "count = 0\n",
        "while count < 5: # check whether `count` is less than 5. # if true, the code is then executed.\n",
        "    count += 1 # this increments the value of count by 1 each time the loop runs. Just like count = count + 1\n",
        "    print(count) # This process repeats until count reaches 5\n",
        "\n",
        "# Further explanations:\n",
        "    #  If count starts at 0:\n",
        "    # First iteration: count = 0, count < 5 is True, so count becomes 1.\n",
        "    # Second iteration: count = 1, count < 5 is True, so count becomes 2.\n",
        "    # Third iteration: count = 2, count < 5 is True, so count becomes 3.\n",
        "    # Fourth iteration: count = 3, count < 5 is True, so count becomes 4.\n",
        "    # Fifth iteration: count = 4, count < 5 is True, so count becomes 5.\n",
        "    # Sixth iteration: count = 5, count < 5 is False, so the loop stops.\n",
        "\n",
        "# output: 1\n",
        "#         2\n",
        "#         3\n",
        "#         4\n",
        "#         5\n"
      ],
      "metadata": {
        "colab": {
          "base_uri": "https://localhost:8080/"
        },
        "id": "oeLtKHV7-fjl",
        "outputId": "03d70547-34c6-4ae2-b610-55c11e152ba1"
      },
      "execution_count": 12,
      "outputs": [
        {
          "output_type": "stream",
          "name": "stdout",
          "text": [
            "1\n",
            "2\n",
            "3\n",
            "4\n",
            "5\n"
          ]
        }
      ]
    },
    {
      "cell_type": "markdown",
      "source": [
        "Exercise 1: Write a Python program that prints the numbers from 1 to 5."
      ],
      "metadata": {
        "id": "QLIp4nPHBD5p"
      }
    },
    {
      "cell_type": "code",
      "source": [
        "# Declare a variable i and initialize it with 1\n",
        "i = 1\n",
        "while i <= 5: # checks whether i is less than or equal to 5\n",
        "    i += 1  # increments the value of i by 1 each time the loop runs until i = 5\n",
        "    print(i)\n",
        "\n",
        "# output: 1\n",
        "#         2\n",
        "#         3\n",
        "#         4\n",
        "#         5"
      ],
      "metadata": {
        "colab": {
          "base_uri": "https://localhost:8080/"
        },
        "id": "qnQIG0oXBM44",
        "outputId": "53fcaf2c-50f3-4510-e6b6-885916d77cff"
      },
      "execution_count": 13,
      "outputs": [
        {
          "output_type": "stream",
          "name": "stdout",
          "text": [
            "2\n",
            "3\n",
            "4\n",
            "5\n",
            "6\n"
          ]
        }
      ]
    },
    {
      "cell_type": "markdown",
      "source": [
        "Exercise 2: Write a Python program that prints all even numbers between 1 and 10"
      ],
      "metadata": {
        "id": "C80CKbvGCCLs"
      }
    },
    {
      "cell_type": "code",
      "source": [
        "# Declare a variable j, initialized to 1\n",
        "j = 1\n",
        "while j <= 10: # checks if the condition is true and then execute the code in the loop\n",
        "    if j % 2 == 0: # The `if statement` checks the condition when j % 2 gives 0 (divides the value of j by 2 and output the remainder).\n",
        "        print(j) # If true, this is executed\n",
        "    j += 1 # perform increments by 1 until j = 10\n",
        "\n",
        "\n",
        "  # Further explanations:\n",
        "\n",
        "#   First Iteration:\n",
        "    # j = 1\n",
        "    # 1 <= 10 is True, so the loop runs.\n",
        "    # 1 % 2 is not 0 (it's 1), so the if condition is False, and print(j) is not executed.\n",
        "    # j is incremented to 2.\n",
        "\n",
        "#   Second Iteration:\n",
        "    # j = 2\n",
        "    # 2 <= 10 is True, so the loop runs.\n",
        "    # 2 % 2 is 0, so the if condition is True, and 2 is printed.\n",
        "    # j is incremented to 3.\n",
        "\n",
        "  # .\n",
        "  # .\n",
        "  # .\n",
        "\n",
        "# until when j = 10\n",
        "\n",
        "# output: 2\n",
        "#         4\n",
        "#         6\n",
        "#         8\n",
        "#         10\n"
      ],
      "metadata": {
        "colab": {
          "base_uri": "https://localhost:8080/"
        },
        "id": "VD60_J2ACGGU",
        "outputId": "eef5c259-f285-4197-e82e-9a199635ab83"
      },
      "execution_count": 16,
      "outputs": [
        {
          "output_type": "stream",
          "name": "stdout",
          "text": [
            "2\n",
            "4\n",
            "6\n",
            "8\n",
            "10\n"
          ]
        }
      ]
    }
  ]
}